{
 "cells": [
  {
   "cell_type": "code",
   "execution_count": 0,
   "metadata": {
    "colab": {},
    "colab_type": "code",
    "id": "Y8ter2UpdnFC"
   },
   "outputs": [],
   "source": [
    "%load_ext tensorboard"
   ]
  },
  {
   "cell_type": "code",
   "execution_count": 0,
   "metadata": {
    "colab": {},
    "colab_type": "code",
    "id": "qkaSfws4RIHf"
   },
   "outputs": [],
   "source": [
    "tensorboard --logdir='./drive/My Drive/training_unet/log'"
   ]
  },
  {
   "cell_type": "code",
   "execution_count": 0,
   "metadata": {
    "colab": {},
    "colab_type": "code",
    "id": "4ZtjGhZhdmBE"
   },
   "outputs": [],
   "source": [
    "!python3 './drive/My Drive/YouTube/youtube-002-pytorch-unet/train.py'"
   ]
  },
  {
   "cell_type": "code",
   "execution_count": 0,
   "metadata": {
    "colab": {
     "base_uri": "https://localhost:8080/",
     "height": 51
    },
    "colab_type": "code",
    "executionInfo": {
     "elapsed": 7969,
     "status": "ok",
     "timestamp": 1584314467883,
     "user": {
      "displayName": "한요섭",
      "photoUrl": "https://lh5.googleusercontent.com/-YFCq7U3ZRkA/AAAAAAAAAAI/AAAAAAAARHc/gXM5cCKzru0/s64/photo.jpg",
      "userId": "13321053678363808287"
     },
     "user_tz": 360
    },
    "id": "udJh_9lGeDrF",
    "outputId": "642860fa-7b23-4e51-cc53-cec3538bb1a5"
   },
   "outputs": [
    {
     "name": "stdout",
     "output_type": "stream",
     "text": [
      "TEST: BATCH 0001 / 0001 | LOSS 0.3026\n",
      "AVERAGE TEST: BATCH 0001 / 0001 | LOSS 0.3026\n"
     ]
    }
   ],
   "source": [
    "!python3 './drive/My Drive/YouTube/youtube-002-pytorch-unet/eval.py'"
   ]
  },
  {
   "cell_type": "code",
   "execution_count": 21,
   "metadata": {
    "colab": {
     "base_uri": "https://localhost:8080/",
     "height": 204
    },
    "colab_type": "code",
    "executionInfo": {
     "elapsed": 12442,
     "status": "ok",
     "timestamp": 1584852126774,
     "user": {
      "displayName": "한요섭",
      "photoUrl": "https://lh5.googleusercontent.com/-YFCq7U3ZRkA/AAAAAAAAAAI/AAAAAAAARHc/gXM5cCKzru0/s64/photo.jpg",
      "userId": "13321053678363808287"
     },
     "user_tz": 360
    },
    "id": "pz7ioSlzeVeN",
    "outputId": "c569fe40-0776-4c5f-9097-c1fece9a14f5"
   },
   "outputs": [
    {
     "name": "stdout",
     "output_type": "stream",
     "text": [
      "learning rate: 1.0000e-02\n",
      "batch size: 2\n",
      "number of epoch: 300\n",
      "data dir: /content/drive/My Drive/YouTube/youtube-002-pytorch-unet/datasets\n",
      "ckpt dir: /content/drive/My Drive/YouTube/youtube-002-pytorch-unet/checkpoint_v2\n",
      "log dir: /content/drive/My Drive/YouTube/youtube-002-pytorch-unet/log_v2\n",
      "result dir: /content/drive/My Drive/YouTube/youtube-002-pytorch-unet/result_v2\n",
      "mode: test\n",
      "TEST: BATCH 0001 / 0002 | LOSS 0.2314\n",
      "TEST: BATCH 0002 / 0002 | LOSS 0.2141\n",
      "AVERAGE TEST: BATCH 0002 / 0002 | LOSS 0.2141\n"
     ]
    }
   ],
   "source": [
    "!python3 \"/content/drive/My Drive/YouTube/youtube-002-pytorch-unet/train.py\" \\\n",
    "--lr 1e-2 --batch_size 2 --num_epoch 300 \\\n",
    "--data_dir \"/content/drive/My Drive/YouTube/youtube-002-pytorch-unet/datasets\" \\\n",
    "--ckpt_dir \"/content/drive/My Drive/YouTube/youtube-002-pytorch-unet/checkpoint_v2\" \\\n",
    "--log_dir \"/content/drive/My Drive/YouTube/youtube-002-pytorch-unet/log_v2\" \\\n",
    "--result_dir \"/content/drive/My Drive/YouTube/youtube-002-pytorch-unet/result_v2\" \\\n",
    "--mode \"test\" \\\n",
    "--train_continue \"off\""
   ]
  },
  {
   "cell_type": "code",
   "execution_count": 5,
   "metadata": {
    "colab": {},
    "colab_type": "code",
    "id": "CVoZZbqBbGcR"
   },
   "outputs": [],
   "source": [
    "import numpy\n",
    "import pandas as pd"
   ]
  },
  {
   "cell_type": "code",
   "execution_count": 6,
   "metadata": {},
   "outputs": [
    {
     "ename": "TypeError",
     "evalue": "bad operand type for unary -: 'str'",
     "output_type": "error",
     "traceback": [
      "\u001b[1;31m---------------------------------------------------------------------------\u001b[0m",
      "\u001b[1;31mTypeError\u001b[0m                                 Traceback (most recent call last)",
      "\u001b[1;32m<ipython-input-6-c13310ceb98c>\u001b[0m in \u001b[0;36m<module>\u001b[1;34m\u001b[0m\n\u001b[1;32m----> 1\u001b[1;33m \u001b[0mdir\u001b[0m \u001b[1;33m-\u001b[0m\u001b[1;33m-\u001b[0m \u001b[1;34m\"/datasets/testinput_000.npy\"\u001b[0m\u001b[1;33m\u001b[0m\u001b[1;33m\u001b[0m\u001b[0m\n\u001b[0m",
      "\u001b[1;31mTypeError\u001b[0m: bad operand type for unary -: 'str'"
     ]
    }
   ],
   "source": [
    "dir -- \"/datasets/testinput_000.npy\""
   ]
  },
  {
   "cell_type": "code",
   "execution_count": null,
   "metadata": {},
   "outputs": [],
   "source": [
    "print(dir)"
   ]
  },
  {
   "cell_type": "code",
   "execution_count": null,
   "metadata": {},
   "outputs": [],
   "source": []
  }
 ],
 "metadata": {
  "accelerator": "GPU",
  "colab": {
   "authorship_tag": "ABX9TyOhn0PSXfBvXCiYxsnaoSU4",
   "collapsed_sections": [],
   "mount_file_id": "1cFB-vCtcEHFjk1t7cXHJHg0Nog4LiOMZ",
   "name": "run_unet.ipynb",
   "provenance": []
  },
  "kernelspec": {
   "display_name": "Python 3",
   "language": "python",
   "name": "python3"
  },
  "language_info": {
   "codemirror_mode": {
    "name": "ipython",
    "version": 3
   },
   "file_extension": ".py",
   "mimetype": "text/x-python",
   "name": "python",
   "nbconvert_exporter": "python",
   "pygments_lexer": "ipython3",
   "version": "3.8.8"
  }
 },
 "nbformat": 4,
 "nbformat_minor": 1
}
